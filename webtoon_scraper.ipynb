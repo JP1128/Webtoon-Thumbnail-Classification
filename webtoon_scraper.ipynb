{
 "cells": [
  {
   "cell_type": "code",
   "execution_count": 193,
   "metadata": {
    "collapsed": true,
    "pycharm": {
     "name": "#%%\n"
    }
   },
   "outputs": [],
   "source": [
    "import base64\n",
    "\n",
    "import aiohttp\n",
    "import pandas as pd\n",
    "import requests\n",
    "from bs4 import BeautifulSoup\n",
    "from tqdm.asyncio import tqdm"
   ]
  },
  {
   "cell_type": "code",
   "execution_count": 194,
   "outputs": [],
   "source": [
    "url = \"https://comic.naver.com\"\n",
    "res = requests.get(url + \"/webtoon/creation?view=list\")\n",
    "bs = BeautifulSoup(res.content, 'html.parser')\n",
    "\n",
    "hrefs = [\n",
    "    webtoon['href']\n",
    "    for section in bs.find_all('div', {'class': \"section\"})\n",
    "    for webtoon in section.find_all('a', {'href': True, 'title': True})\n",
    "]"
   ],
   "metadata": {
    "collapsed": false,
    "pycharm": {
     "name": "#%%\n"
    }
   }
  },
  {
   "cell_type": "code",
   "execution_count": 200,
   "outputs": [],
   "source": [
    "async def retrieve_webtoon(href, session):\n",
    "    async with session.get(url + href) as response:\n",
    "        webtoon_res = await response.read()\n",
    "        webtoon_bs = BeautifulSoup(webtoon_res, 'html.parser')\n",
    "\n",
    "        title = webtoon_bs.find('span', {'class': \"title\"}).text\n",
    "        authors = webtoon_bs.find('span', {'class': \"wrt_nm\"}).text.strip().replace(' / ', ',')\n",
    "        genres = webtoon_bs.find('span', {'class': \"genre\"}).text\n",
    "        genre = genres.split(', ')[1]\n",
    "        src = webtoon_bs.find('img')['src']\n",
    "\n",
    "        episodes_lst = webtoon_bs.find('table', {'class': \"viewList\"})\n",
    "        images_src = episodes_lst.find_all('img', {'title': True})\n",
    "        images_src = [image['src'] for image in images_src]\n",
    "\n",
    "    async with session.get(src) as response:\n",
    "        thumbnail_res = await response.read()\n",
    "        thumbnail = base64.b64encode(thumbnail_res).decode()\n",
    "\n",
    "    images = []\n",
    "    for image_src in images_src:\n",
    "        async with session.get(image_src) as response:\n",
    "            image_res = await response.read()\n",
    "            images.append(base64.b64encode(image_res).decode())\n",
    "\n",
    "    return title, authors, genre, thumbnail, ','.join(images)"
   ],
   "metadata": {
    "collapsed": false,
    "pycharm": {
     "name": "#%%\n"
    }
   }
  },
  {
   "cell_type": "code",
   "execution_count": 201,
   "outputs": [
    {
     "name": "stderr",
     "output_type": "stream",
     "text": [
      "100%|██████████| 1808/1808 [02:26<00:00, 12.37it/s] \n"
     ]
    }
   ],
   "source": [
    "async with aiohttp.ClientSession() as session:\n",
    "    ret = await tqdm.gather(*[retrieve_webtoon(href, session) for href in hrefs])"
   ],
   "metadata": {
    "collapsed": false,
    "pycharm": {
     "name": "#%%\n"
    }
   }
  },
  {
   "cell_type": "code",
   "execution_count": 210,
   "outputs": [],
   "source": [
    "df = pd.DataFrame(ret, columns=['Title', 'Authors', 'Genre', 'Thumbnail', 'Images'])"
   ],
   "metadata": {
    "collapsed": false,
    "pycharm": {
     "name": "#%%\n"
    }
   }
  },
  {
   "cell_type": "code",
   "execution_count": 211,
   "outputs": [],
   "source": [
    "genre_kr2eng = {\n",
    "    '로맨스': \"Romance\",\n",
    "    '판타지': \"Fantasy\",\n",
    "    '드라마': \"Drama\",\n",
    "    '스포츠': \"Sports\",\n",
    "    '개그': \"Comedy\",\n",
    "    '스릴러': \"Thriller\",\n",
    "    '액션': \"Action\",\n",
    "    '일상': \"Slice of Life\",\n",
    "    '감성': \"Heartwarming\",\n",
    "    '무협/사극': \"Historical\"\n",
    "}\n",
    "\n",
    "df['Genre'].replace(genre_kr2eng, inplace=True)"
   ],
   "metadata": {
    "collapsed": false,
    "pycharm": {
     "name": "#%%\n"
    }
   }
  },
  {
   "cell_type": "code",
   "execution_count": 209,
   "outputs": [],
   "source": [
    "df.to_csv('korean_webtoons.csv', index=False)"
   ],
   "metadata": {
    "collapsed": false,
    "pycharm": {
     "name": "#%%\n"
    }
   }
  }
 ],
 "metadata": {
  "kernelspec": {
   "display_name": "Python 3",
   "language": "python",
   "name": "python3"
  },
  "language_info": {
   "codemirror_mode": {
    "name": "ipython",
    "version": 2
   },
   "file_extension": ".py",
   "mimetype": "text/x-python",
   "name": "python",
   "nbconvert_exporter": "python",
   "pygments_lexer": "ipython2",
   "version": "2.7.6"
  }
 },
 "nbformat": 4,
 "nbformat_minor": 0
}